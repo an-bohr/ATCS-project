{
 "cells": [
  {
   "cell_type": "code",
   "execution_count": 1,
   "metadata": {
    "scrolled": true
   },
   "outputs": [
    {
     "name": "stdout",
     "output_type": "stream",
     "text": [
      "Defaulting to user installation because normal site-packages is not writeable\n",
      "Requirement already satisfied: spacy in /home/scur0246/.local/lib/python3.11/site-packages (3.7.4)\n",
      "Requirement already satisfied: nrclex in /home/scur0246/.local/lib/python3.11/site-packages (3.0.0)\n",
      "Requirement already satisfied: spacy-legacy<3.1.0,>=3.0.11 in /home/scur0246/.local/lib/python3.11/site-packages (from spacy) (3.0.12)\n",
      "Requirement already satisfied: spacy-loggers<2.0.0,>=1.0.0 in /home/scur0246/.local/lib/python3.11/site-packages (from spacy) (1.0.5)\n",
      "Requirement already satisfied: murmurhash<1.1.0,>=0.28.0 in /home/scur0246/.local/lib/python3.11/site-packages (from spacy) (1.0.10)\n",
      "Requirement already satisfied: cymem<2.1.0,>=2.0.2 in /home/scur0246/.local/lib/python3.11/site-packages (from spacy) (2.0.8)\n",
      "Requirement already satisfied: preshed<3.1.0,>=3.0.2 in /home/scur0246/.local/lib/python3.11/site-packages (from spacy) (3.0.9)\n",
      "Requirement already satisfied: thinc<8.3.0,>=8.2.2 in /home/scur0246/.local/lib/python3.11/site-packages (from spacy) (8.2.3)\n",
      "Requirement already satisfied: wasabi<1.2.0,>=0.9.1 in /home/scur0246/.local/lib/python3.11/site-packages (from spacy) (1.1.2)\n",
      "Requirement already satisfied: srsly<3.0.0,>=2.4.3 in /home/scur0246/.local/lib/python3.11/site-packages (from spacy) (2.4.8)\n",
      "Requirement already satisfied: catalogue<2.1.0,>=2.0.6 in /home/scur0246/.local/lib/python3.11/site-packages (from spacy) (2.0.10)\n",
      "Requirement already satisfied: weasel<0.4.0,>=0.1.0 in /home/scur0246/.local/lib/python3.11/site-packages (from spacy) (0.3.4)\n",
      "Requirement already satisfied: typer<0.10.0,>=0.3.0 in /home/scur0246/.local/lib/python3.11/site-packages (from spacy) (0.9.4)\n",
      "Requirement already satisfied: smart-open<7.0.0,>=5.2.1 in /sw/arch/RHEL8/EB_production/2023/software/Anaconda3/2023.07-2/lib/python3.11/site-packages (from spacy) (5.2.1)\n",
      "Requirement already satisfied: tqdm<5.0.0,>=4.38.0 in /sw/arch/RHEL8/EB_production/2023/software/Anaconda3/2023.07-2/lib/python3.11/site-packages (from spacy) (4.65.0)\n",
      "Requirement already satisfied: requests<3.0.0,>=2.13.0 in /sw/arch/RHEL8/EB_production/2023/software/Anaconda3/2023.07-2/lib/python3.11/site-packages (from spacy) (2.31.0)\n",
      "Requirement already satisfied: pydantic!=1.8,!=1.8.1,<3.0.0,>=1.7.4 in /home/scur0246/.local/lib/python3.11/site-packages (from spacy) (2.7.1)\n",
      "Requirement already satisfied: jinja2 in /sw/arch/RHEL8/EB_production/2023/software/Anaconda3/2023.07-2/lib/python3.11/site-packages (from spacy) (3.1.2)\n",
      "Requirement already satisfied: setuptools in /sw/arch/RHEL8/EB_production/2023/software/Anaconda3/2023.07-2/lib/python3.11/site-packages (from spacy) (68.0.0)\n",
      "Requirement already satisfied: packaging>=20.0 in /sw/arch/RHEL8/EB_production/2023/software/Anaconda3/2023.07-2/lib/python3.11/site-packages (from spacy) (23.0)\n",
      "Requirement already satisfied: langcodes<4.0.0,>=3.2.0 in /home/scur0246/.local/lib/python3.11/site-packages (from spacy) (3.4.0)\n",
      "Requirement already satisfied: numpy>=1.19.0 in /sw/arch/RHEL8/EB_production/2023/software/Anaconda3/2023.07-2/lib/python3.11/site-packages (from spacy) (1.24.3)\n",
      "Requirement already satisfied: textblob in /home/scur0246/.local/lib/python3.11/site-packages (from nrclex) (0.18.0.post0)\n",
      "Requirement already satisfied: language-data>=1.2 in /home/scur0246/.local/lib/python3.11/site-packages (from langcodes<4.0.0,>=3.2.0->spacy) (1.2.0)\n",
      "Requirement already satisfied: annotated-types>=0.4.0 in /home/scur0246/.local/lib/python3.11/site-packages (from pydantic!=1.8,!=1.8.1,<3.0.0,>=1.7.4->spacy) (0.6.0)\n",
      "Requirement already satisfied: pydantic-core==2.18.2 in /home/scur0246/.local/lib/python3.11/site-packages (from pydantic!=1.8,!=1.8.1,<3.0.0,>=1.7.4->spacy) (2.18.2)\n",
      "Requirement already satisfied: typing-extensions>=4.6.1 in /sw/arch/RHEL8/EB_production/2023/software/Anaconda3/2023.07-2/lib/python3.11/site-packages (from pydantic!=1.8,!=1.8.1,<3.0.0,>=1.7.4->spacy) (4.7.1)\n",
      "Requirement already satisfied: charset-normalizer<4,>=2 in /sw/arch/RHEL8/EB_production/2023/software/Anaconda3/2023.07-2/lib/python3.11/site-packages (from requests<3.0.0,>=2.13.0->spacy) (2.0.4)\n",
      "Requirement already satisfied: idna<4,>=2.5 in /sw/arch/RHEL8/EB_production/2023/software/Anaconda3/2023.07-2/lib/python3.11/site-packages (from requests<3.0.0,>=2.13.0->spacy) (3.4)\n",
      "Requirement already satisfied: urllib3<3,>=1.21.1 in /sw/arch/RHEL8/EB_production/2023/software/Anaconda3/2023.07-2/lib/python3.11/site-packages (from requests<3.0.0,>=2.13.0->spacy) (1.26.16)\n",
      "Requirement already satisfied: certifi>=2017.4.17 in /sw/arch/RHEL8/EB_production/2023/software/Anaconda3/2023.07-2/lib/python3.11/site-packages (from requests<3.0.0,>=2.13.0->spacy) (2023.7.22)\n",
      "Requirement already satisfied: blis<0.8.0,>=0.7.8 in /home/scur0246/.local/lib/python3.11/site-packages (from thinc<8.3.0,>=8.2.2->spacy) (0.7.11)\n",
      "Requirement already satisfied: confection<1.0.0,>=0.0.1 in /home/scur0246/.local/lib/python3.11/site-packages (from thinc<8.3.0,>=8.2.2->spacy) (0.1.4)\n",
      "Requirement already satisfied: click<9.0.0,>=7.1.1 in /sw/arch/RHEL8/EB_production/2023/software/Anaconda3/2023.07-2/lib/python3.11/site-packages (from typer<0.10.0,>=0.3.0->spacy) (8.0.4)\n",
      "Requirement already satisfied: cloudpathlib<0.17.0,>=0.7.0 in /home/scur0246/.local/lib/python3.11/site-packages (from weasel<0.4.0,>=0.1.0->spacy) (0.16.0)\n",
      "Requirement already satisfied: MarkupSafe>=2.0 in /sw/arch/RHEL8/EB_production/2023/software/Anaconda3/2023.07-2/lib/python3.11/site-packages (from jinja2->spacy) (2.1.1)\n",
      "Requirement already satisfied: nltk>=3.8 in /sw/arch/RHEL8/EB_production/2023/software/Anaconda3/2023.07-2/lib/python3.11/site-packages (from textblob->nrclex) (3.8.1)\n",
      "Requirement already satisfied: marisa-trie>=0.7.7 in /home/scur0246/.local/lib/python3.11/site-packages (from language-data>=1.2->langcodes<4.0.0,>=3.2.0->spacy) (1.1.1)\n",
      "Requirement already satisfied: joblib in /sw/arch/RHEL8/EB_production/2023/software/Anaconda3/2023.07-2/lib/python3.11/site-packages (from nltk>=3.8->textblob->nrclex) (1.2.0)\n",
      "Requirement already satisfied: regex>=2021.8.3 in /sw/arch/RHEL8/EB_production/2023/software/Anaconda3/2023.07-2/lib/python3.11/site-packages (from nltk>=3.8->textblob->nrclex) (2022.7.9)\n"
     ]
    }
   ],
   "source": [
    "# Add this if running notebook on Snellius\n",
    "!pip install spacy nrclex"
   ]
  },
  {
   "cell_type": "code",
   "execution_count": 2,
   "metadata": {},
   "outputs": [],
   "source": [
    "# Import packages\n",
    "import matplotlib.pyplot as plt\n",
    "from IPython.display import display, HTML, clear_output, IFrame\n",
    "from ipywidgets import widgets, interactive, interact, Box\n",
    "\n",
    "# Import files\n",
    "from utils.study_stereotypes import get_shifts\n",
    "from probe_mlm import study_results_at_per_cat\n",
    "from visualizations.study_emotions import plot_emotion_vectors\n",
    "from visualizations.study_emotions_3D import pca_scatterplot_3D\n",
    "from rsa import comparison_across_models, comparison_within_models\n",
    "from utils.utils import search_engine_stereotypes, get_mlm_output, data_distr, get_tgt\n"
   ]
  },
  {
   "cell_type": "markdown",
   "metadata": {},
   "source": [
    "# Demo for studying stereotypes and emotions\n",
    "\n",
    "This demo notebook contains code for the experiments from the paper: `Stepmothers are mean and academics are pretentious: What do pretrained language models learn about you?`. The notebook contains interfaces for studying the following aspects of the paper:\n",
    "\n",
    "<ul>\n",
    "<li>Part 1: provides insight into the stereotypes dataset content</li>\n",
    "<li>Part 2: analyses the pretrained language model outputs and relates them to the stereotypes retrieved from the search engines</li>\n",
    "<li>Part 3: studies the emotion profiles within the models and compares those across models using RSA </li>\n",
    "<li>Part 4: uncovers emotion and specific stereotype shifts as a result of fine-tuning on different news sources </li>\n",
    "</ul>\n",
    "    "
   ]
  },
  {
   "cell_type": "code",
   "execution_count": 2,
   "metadata": {},
   "outputs": [],
   "source": [
    "# For autoreloading changes made in other python scripts\n",
    "# %load_ext autoreload\n",
    "# %autoreload 2\n",
    "\n",
    "# javascript_functions = {False: \"hide()\", True: \"show()\"}\n",
    "# button_descriptions  = {False: \"Show code\", True: \"Hide code\"}\n",
    "\n",
    "\n",
    "# def toggle_code(state):\n",
    "\n",
    "#     \"\"\"\n",
    "#     Toggles the JavaScript show()/hide() function on the div.input element.\n",
    "#     \"\"\"\n",
    "\n",
    "#     output_string = \"<script>$(\\\"div.input\\\").{}</script>\"\n",
    "#     output_args   = (javascript_functions[state],)\n",
    "#     output        = output_string.format(*output_args)\n",
    "\n",
    "#     display(HTML(output))\n",
    "\n",
    "\n",
    "# def button_action(value):\n",
    "\n",
    "#     \"\"\"\n",
    "#     Calls the toggle_code function and updates the button description.\n",
    "#     \"\"\"\n",
    "\n",
    "#     state = value.new\n",
    "\n",
    "#     toggle_code(state)\n",
    "\n",
    "#     value.owner.description = button_descriptions[state]\n",
    "\n",
    "\n",
    "# state = False\n",
    "# toggle_code(state)\n",
    "\n",
    "# button = widgets.ToggleButton(state, description = button_descriptions[state])\n",
    "# button.observe(button_action, \"value\")\n",
    "\n",
    "# display(button)"
   ]
  },
  {
   "cell_type": "markdown",
   "metadata": {},
   "source": [
    "## PART 1: Stereotypes from search engines\n",
    "\n",
    "Retrieve the stereotypical attributes of different social groups captured in the search engine dataset. To retrieve stereotypes, simply type in the social groups that you like to study from the following lists of categories: "
   ]
  },
  {
   "cell_type": "code",
   "execution_count": 3,
   "metadata": {},
   "outputs": [
    {
     "name": "stdout",
     "output_type": "stream",
     "text": [
      "\u001b[1mAge\u001b[0m : adolescentes, adolescents, aînés, boomers, enfants, filles, fils, millénaires, personnes âgées\n",
      "\n",
      "\u001b[1mGender\u001b[0m : amies, amis, beaux-pères, belles-mères, dames, femelles, femmes, filles, garcons, gentlemen, grand-mères, grand-pères, hommes, mamans, maris, mariées, mariés, messieurs, mères, papas, pères, sœurs\n",
      "\n",
      "\u001b[1mLifestyle\u001b[0m : californiennes, criminels, célébrités, gars de la fraternité, geeks, goths, hippies, hipsters, nerds, pauvres, punks, péquenaudes, péquenauds, riches, rousses, roux, sans-abri\n",
      "\n",
      "\u001b[1mPolitical\u001b[0m : capitalistes, communistes, conservateurs, conservatrices, immigrants, populistes, socialistes, électeurs, électrices\n",
      "\n",
      "\u001b[1mProfession\u001b[0m : acteurs, actrices, agents immobiliers, agriculteurs, analystes, architectes, artistes, assistantes, assistants, auditeurs, auditrices, auteurs, avocats, banquiers, banquières, barbiers, barmaids, barmans, bibliothécaires, bouchers, bouchères, boulangers, boulangères, boxeuses, bricoleurs, bricoleuses, caissier, chanteurs, chanteurs d'opéra, chanteuses, chanteuses d'opéra, charpentiers, charpentières, chefs, chercheurs, chercheuses, chimistes, coiffeurs, commandants, commis, compositeurs, compositrices, comptables, comédiennes, concierges, conseillers, courtiers, cuisiniers, danseurs, danseuses, dentistes, designers, diplomates, directeurs, directrices, déménageurs, déménageuses, enseignantes, enseignants, entraîneuses, entrepreneurs, femmes d'affaires, femmes de ménage, fonctionnaires, gardes, guitaristes, historiennes, historiens, hommes d'affaires, hommes de ménage, illustrateurs, illustratrices, infirmiers, joueurs de football, joueurs de tennis, joueuses de football, joueuses de tennis, journalistes, juges, linguistes, mathématiciennes, modèles, musiciens, mécaniciennes, médecins, nageurs, nageuses, nettoyantes, nettoyants, officiers de police, officières de police, ouvriers, patrons, peintres, pharmaciennes, pharmaciens, physiciennes, pilotes, plombiers, police, politiciennes, politiciens, pompiers, pompières, poétesses, procureures, procureurs, producteurs, productrices, professeurs, promoteurs immobiliers, préposées, préposés, prêtresses, psychologues, réalisatrices, réceptionnistes, sages-femmes, scientifiques, servants, serveurs, serveuses, sociologues, soldats, superviseurs, superviseuses, universitaires, vendeurs, vendeuses, écrivaines, écrivains, éditeurs, éditrices, électriciennes, étudiantes, étudiants\n",
      "\n",
      "\u001b[1mRace\u001b[0m : afghanes, afghans, africaines, africains, afro-américaines, afro-américains, albanais, albanaises, allemandes, allemands, américaines, américaines blanches, américaines noires, américains, américains blancs, américains noirs, amérindiennes, arabes, asiatiques, australiennes, australiens, autrichiennes, autrichiens, bengalis, blanches, blancs, blonds, britanniques, chiliennes, colombiennes, colombiens, coréennes, coréens, enfants asiatiques, enfants blancs, enfants noirs, européennes, européens, femmes asiatiques, femmes blanches, femmes chinoises, femmes hispaniques, femmes indiennes, femmes irlandaises, femmes japonaises, femmes noires, finlandais, finlandaises, francais, francaises, ghanéennes, ghanéens, grecques, grecs, hispaniques, hommes asiatiques, hommes blancs, hommes chinois, hommes hispaniques, hommes indiens, hommes irlandais, hommes japonais, hommes noirs, indiennes, indiens, indonésiennes, irakiennes, irakiens, iraniennes, iraniens, irlandais, italiennes, italiens, juifs, juives, latinos, latins, libanais, libanaises, marocaines, marocains, mexicaines, mexicains, nigérianes, noires, noirs, norvégiennes, norvégiens, néerlandais, néerlandaises, népalais, népalaises, pakistanais, pakistanaises, parents asiatiques, parents blancs, parents indiens, parents noirs, persanes, persans, polonais, polonaises, portugais, portugaises, pères noirs, roumaines, roumains, russes, somaliennes, somaliens, soudanais, soudanaises, sud-africaines, sud-africains, suédois, suédoises, syriennes, syriens, taïwanais, taïwanaises, turcs, ukrainiennes, ukrainiens, vietnamiennes, vietnamiens, vénézuéliennes, vénézuéliens, écossais, écossaises, égyptiennes, égyptiens, équatoriennes, équatoriens, éthiopiennes, éthiopiens\n",
      "\n",
      "\u001b[1mReligion\u001b[0m : athées, bouddhistes, catholiques, chrétiens, hindoues, hindous, mormones, mormons, musulmanes, musulmans, personnes croyantes, sikhs\n",
      "\n",
      "\u001b[1mSexuality\u001b[0m : pédés, transgenres\n",
      "\n"
     ]
    },
    {
     "data": {
      "text/html": [
       "<style>\n",
       "    .widget-label { height: 6ex !important; }\n",
       "</style>"
      ],
      "text/plain": [
       "<IPython.core.display.HTML object>"
      ]
     },
     "metadata": {},
     "output_type": "display_data"
    }
   ],
   "source": [
    "get_tgt(dataset='data_collection/stereo_dataset/adjective_data_fr.csv')\n",
    "display(HTML('''<style>\n",
    "    .widget-label { height: 6ex !important; }\n",
    "</style>'''))\n",
    "\n",
    "txtsl = widgets.Text(placeholder='Enter words to get attributes for', style= {'button_color':'red'},font_size=1000,\n",
    "                    description='Social groups', value='black people, british people, californians, comedians, millenials, Norway, mormons')"
   ]
  },
  {
   "cell_type": "markdown",
   "metadata": {},
   "source": [
    "Note that, as mentioned in the paper, no stereotypical attributes were found for the category `sexuality` from the search engines, hence none of the groups belonging to this category are included in the dataset. \n",
    "##### Enter group name:"
   ]
  },
  {
   "cell_type": "code",
   "execution_count": 4,
   "metadata": {},
   "outputs": [
    {
     "name": "stdout",
     "output_type": "stream",
     "text": [
      "\u001b[1mmormons\u001b[0m           -->    toujours pur\n"
     ]
    },
    {
     "data": {
      "application/vnd.jupyter.widget-view+json": {
       "model_id": "9ff256f5007b4de692b48f3a42269622",
       "version_major": 2,
       "version_minor": 0
      },
      "text/plain": [
       "interactive(children=(Text(value='black people, british people, californians, comedians, millenials, Norway, m…"
      ]
     },
     "metadata": {},
     "output_type": "display_data"
    },
    {
     "data": {
      "text/plain": [
       "<function utils.utils.search_engine_stereotypes(names, dataset, word_for_so)>"
      ]
     },
     "execution_count": 4,
     "metadata": {},
     "output_type": "execute_result"
    }
   ],
   "source": [
    "interact(search_engine_stereotypes, names=txtsl, dataset='data_collection/stereo_dataset/adjective_data_fr.csv', word_for_so='sont')"
   ]
  },
  {
   "cell_type": "code",
   "execution_count": 5,
   "metadata": {
    "scrolled": false
   },
   "outputs": [
    {
     "data": {
      "image/png": "[encoded data removed]",
      "text/plain": [
       "<Figure size 640x480 with 1 Axes>"
      ]
     },
     "metadata": {},
     "output_type": "display_data"
    }
   ],
   "source": [
    "data_distr(dataset='data_collection/stereo_dataset/adjective_data_fr.csv')"
   ]
  },
  {
   "cell_type": "markdown",
   "metadata": {},
   "source": [
    "## PART 2: Stereotypes from pretrained language models\n",
    "\n",
    "Retrieve the top $k$ language model outputs for a social group from a pretrained model of choice. The returned orderings are: 1. the original ranking based on the language model probability (left), and 2. the ordering re-ranked based on stereotypicality (see $eq. 1,2,3$ in the paper).   \n"
   ]
  },
  {
   "cell_type": "code",
   "execution_count": 6,
   "metadata": {},
   "outputs": [],
   "source": [
    "model_menu = widgets.Dropdown(\n",
    "    options=['mBERT', 'XLMR-B', 'XLMR-L'],\n",
    "    value='mBERT',\n",
    "    description='Model:',\n",
    "    disabled=False,\n",
    ")\n",
    "\n",
    "topk_menu = widgets.BoundedIntText(\n",
    "    value=10,\n",
    "    min=1,\n",
    "    max=200,\n",
    "    step=1,\n",
    "    description='Top k:',\n",
    "    disabled=False\n",
    ")\n",
    "\n",
    "group = widgets.Text(placeholder='Enter words to get attributes for',\n",
    "                    description='Group',  value='politiciens')\n",
    "\n",
    "#items = [model_menu, topk_menu, group]\n",
    "#box = Box(children=items)\n",
    "#box[\"Asians\", \"Americans\", \"Jews\", \"Black people\",\n",
    "\n",
    "\n",
    "#get_mlm_output('bert-large-uncased', 'original', 5, 'old people')"
   ]
  },
  {
   "cell_type": "code",
   "execution_count": 7,
   "metadata": {},
   "outputs": [
    {
     "name": "stdout",
     "output_type": "stream",
     "text": [
      "pourquoi les politiciens sont toujours\n",
      "   Original             Re-ranked         \n",
      " 1 francais             proches             \n",
      " 2 presents             professionnels      \n",
      " 3 elus                 citoyens            \n",
      " 4 morts                inscrits            \n",
      " 5 partis               associes            \n",
      " 6 etrangers            prisonniers         \n",
      " 7 libres               etrangers           \n",
      " 8 politiques           socialistes         \n",
      " 9 celebres             ouvriers            \n",
      "10 nombreux             presentes           \n",
      "\n",
      "\n"
     ]
    },
    {
     "data": {
      "application/vnd.jupyter.widget-view+json": {
       "model_id": "3b92476f19874b72a550ed5d4113ff59",
       "version_major": 2,
       "version_minor": 0
      },
      "text/plain": [
       "interactive(children=(Dropdown(description='Model:', options=('mBERT', 'XLMR-B', 'XLMR-L'), value='mBERT'), Bo…"
      ]
     },
     "metadata": {},
     "output_type": "display_data"
    },
    {
     "data": {
      "text/plain": [
       "<function utils.utils.get_mlm_output(Model, topk, Group, language)>"
      ]
     },
     "execution_count": 7,
     "metadata": {},
     "output_type": "execute_result"
    }
   ],
   "source": [
    "interact(get_mlm_output, Model=model_menu, topk = topk_menu, Group=group, language='fr')"
   ]
  },
  {
   "cell_type": "markdown",
   "metadata": {},
   "source": [
    "Retrieve the stereotypes from the search engines that are recalled by a pretrained language model. Specify a model of choice, the social category for which you want to recall stereotypes and the rank $k$ for the top $k$ salient attributes from which you want to compute the recall score. "
   ]
  },
  {
   "cell_type": "code",
   "execution_count": 8,
   "metadata": {},
   "outputs": [
    {
     "name": "stdout",
     "output_type": "stream",
     "text": [
      "pourquoi les allemandes sont meilleures\n",
      "pourquoi les américains sont blancs\n",
      "pourquoi les blancs sont blancs\n",
      "pourquoi les européens sont blancs\n",
      "pourquoi les italiennes sont meilleures\n",
      "pourquoi les noirs sont noirs\n",
      "pourquoi les portugais sont portugais\n",
      "Recall at  10  is  7 / 192  --  0.04 % \n",
      "\n"
     ]
    },
    {
     "data": {
      "application/vnd.jupyter.widget-view+json": {
       "model_id": "cb2f51d9edb84e7ba35c8a6c42959017",
       "version_major": 2,
       "version_minor": 0
      },
      "text/plain": [
       "interactive(children=(Dropdown(description='Model', options=('mBERT', 'XLMR-B', 'XLMR-L'), value='mBERT'), Dro…"
      ]
     },
     "metadata": {},
     "output_type": "display_data"
    },
    {
     "data": {
      "text/plain": [
       "<function probe_mlm.study_results_at_per_cat(m, cat, print_at, language, dataset)>"
      ]
     },
     "execution_count": 8,
     "metadata": {},
     "output_type": "execute_result"
    }
   ],
   "source": [
    "cats = widgets.Dropdown(\n",
    "    options=['age', 'religion', 'political', 'race', 'gender', 'country', 'sexuality', 'lifestyle', 'profession'],\n",
    "    value='race',\n",
    "    description='Category',\n",
    "    disabled=False,\n",
    ")\n",
    "\n",
    "models = widgets.Dropdown(\n",
    "    options=['mBERT', 'XLMR-B', 'XLMR-L'],\n",
    "    value='mBERT',\n",
    "    description='Model',\n",
    "    disabled=False,\n",
    ")\n",
    "\n",
    "recall_at = widgets.BoundedIntText(\n",
    "    value=10,\n",
    "    min=10,\n",
    "    max=200,\n",
    "    step=5,\n",
    "    description='Recall@:',\n",
    "    disabled=False\n",
    ")\n",
    "\n",
    "interact(study_results_at_per_cat, m=models, cat=cats, print_at=recall_at, language='fr', dataset='data_collection/stereo_dataset/adjective_data_fr.csv')"
   ]
  },
  {
   "cell_type": "markdown",
   "metadata": {},
   "source": [
    "## PART 3: Emotion scores within models\n",
    "\n",
    "Here you can visualize the emotion profiles within a specificied pretrained model for a number of social groups.\n"
   ]
  },
  {
   "cell_type": "code",
   "execution_count": 7,
   "metadata": {},
   "outputs": [],
   "source": [
    "models = widgets.Dropdown(\n",
    "    options=['mBERT', 'XLMR-B', 'XLMR-L'],\n",
    "    value='mBERT',\n",
    "    description='Model',\n",
    "    disabled=False,\n",
    ")\n",
    "\n",
    "categories = widgets.Dropdown(\n",
    "    options=['age', 'religion', 'political', 'race', 'gender', 'country', 'sexuality', 'lifestyle', 'profession'],\n",
    "    value='age',\n",
    "    description='Category',\n",
    "    disabled=False,\n",
    ")\n",
    "\n",
    "sample_int = widgets.BoundedIntText(\n",
    "    value=10,\n",
    "    min=1,\n",
    "    max=200,\n",
    "    step=1,\n",
    "    description='Sample:',\n",
    "    disabled=False\n",
    ")\n",
    "\n",
    "groups = widgets.Text(placeholder='Enter words to get attributes for',\n",
    "                    description='Group',  value='asiatiques' )\n"
   ]
  },
  {
   "cell_type": "code",
   "execution_count": 8,
   "metadata": {},
   "outputs": [
    {
     "data": {
      "application/vnd.jupyter.widget-view+json": {
       "model_id": "5a467403b0914c939d8147e4fb7958aa",
       "version_major": 2,
       "version_minor": 0
      },
      "text/plain": [
       "interactive(children=(Dropdown(description='Model', options=('mBERT', 'XLMR-B', 'XLMR-L'), value='mBERT'), Tex…"
      ]
     },
     "metadata": {},
     "output_type": "display_data"
    },
    {
     "data": {
      "text/plain": [
       "<function visualizations.study_emotions.plot_emotion_vectors(Model, Groups, language, lan_nrc)>"
      ]
     },
     "execution_count": 8,
     "metadata": {},
     "output_type": "execute_result"
    }
   ],
   "source": [
    "interact(plot_emotion_vectors, Model=models, Groups=groups, language='fr', lan_nrc='French (fr)')"
   ]
  },
  {
   "cell_type": "markdown",
   "metadata": {},
   "source": [
    "Visualizes the negative, positive and anger scores for social groups in a 3D plot. You should specify the model you want to study, the number of groups that you randomly want to select and the category from which the groups should be sampled."
   ]
  },
  {
   "cell_type": "code",
   "execution_count": 5,
   "metadata": {
    "scrolled": true
   },
   "outputs": [
    {
     "data": {
      "application/vnd.jupyter.widget-view+json": {
       "model_id": "0093f7c37b694fdb91c83fe1035356a0",
       "version_major": 2,
       "version_minor": 0
      },
      "text/plain": [
       "interactive(children=(Dropdown(description='Model', options=('mBERT', 'XLMR-B', 'XLMR-L'), value='mBERT'), Dro…"
      ]
     },
     "metadata": {},
     "output_type": "display_data"
    },
    {
     "data": {
      "text/plain": [
       "<function visualizations.study_emotions_3D.pca_scatterplot_3D(Model, Category, sample=20, language='fr')>"
      ]
     },
     "execution_count": 5,
     "metadata": {},
     "output_type": "execute_result"
    }
   ],
   "source": [
    "interact(pca_scatterplot_3D, Model=models, Category=categories, sample = sample_int, language='fr')"
   ]
  },
  {
   "cell_type": "markdown",
   "metadata": {},
   "source": [
    "## Systematic comparison across models\n",
    "\n",
    "Visualisations of the the relative difference in emotion scores between social groups across models as measured by the Representational Similarity Analysis technique (RSA). Specify the social category that you like to study."
   ]
  },
  {
   "cell_type": "code",
   "execution_count": 2,
   "metadata": {},
   "outputs": [
    {
     "data": {
      "image/png": "[encoded data removed]",
      "text/plain": [
       "<Figure size 700x700 with 2 Axes>"
      ]
     },
     "metadata": {},
     "output_type": "display_data"
    },
    {
     "data": {
      "application/vnd.jupyter.widget-view+json": {
       "model_id": "83376049ddc54c13bc3c3c0f6a5e07af",
       "version_major": 2,
       "version_minor": 0
      },
      "text/plain": [
       "interactive(children=(Dropdown(description='Category', index=1, options=('age', 'religion'), value='religion')…"
      ]
     },
     "metadata": {},
     "output_type": "display_data"
    },
    {
     "data": {
      "text/plain": [
       "<function __main__.view_image(i)>"
      ]
     },
     "execution_count": 2,
     "metadata": {},
     "output_type": "execute_result"
    }
   ],
   "source": [
    "categories = widgets.Dropdown(\n",
    "    options=['age', 'religion', 'political', 'race', 'gender', 'country', 'sexuality', 'lifestyle', 'profession'],\n",
    "    value='religion',\n",
    "    description='Category',\n",
    "    disabled=False,\n",
    ")\n",
    "\n",
    "\n",
    "def view_image(i):\n",
    "    test, im, cbar = comparison_across_models(i, 'fr', 'French (fr)')\n",
    "    display()\n",
    "\n",
    "interact(view_image, i=categories)\n",
    "    \n"
   ]
  },
  {
   "cell_type": "markdown",
   "metadata": {},
   "source": [
    "## PART 4: Stereotype and emotion shift after fine-tuning "
   ]
  },
  {
   "cell_type": "markdown",
   "metadata": {},
   "source": [
    "Visualization of the effect of fine-tuning a pretrained model on different news sources with respect to the emotion profiles within the models (as measured by RSA). Select the model and social category you want to study. "
   ]
  },
  {
   "cell_type": "code",
   "execution_count": 13,
   "metadata": {},
   "outputs": [
    {
     "data": {
      "application/vnd.jupyter.widget-view+json": {
       "model_id": "0216ecd0e20c47febf12af86ad669caf",
       "version_major": 2,
       "version_minor": 0
      },
      "text/plain": [
       "interactive(children=(Dropdown(description='Category', index=4, options=('age', 'religion', 'political', 'race…"
      ]
     },
     "metadata": {},
     "output_type": "display_data"
    },
    {
     "data": {
      "text/plain": [
       "<function __main__.view_image(i, model)>"
      ]
     },
     "execution_count": 13,
     "metadata": {},
     "output_type": "execute_result"
    }
   ],
   "source": [
    "categories = widgets.Dropdown(\n",
    "    options=['age', 'religion', 'political', 'race', 'gender', 'country', 'sexuality', 'lifestyle', 'profession'],\n",
    "    value='gender',\n",
    "    description='Category',\n",
    "    disabled=False,\n",
    ")\n",
    "\n",
    "models = widgets.Dropdown(\n",
    "    options=['BERT-B', 'RoBERTa-B','BART-B', 'mBERT', 'XLMR-B'],\n",
    "    value='BART-B',\n",
    "    description='Model',\n",
    "    disabled=False,\n",
    ")\n",
    "\n",
    "\n",
    "def view_image(i, model):\n",
    "    im, cbar = comparison_within_models(i, model, 'finetuned1epoch')\n",
    "    display()\n",
    "interact(view_image, i=categories, model=models)\n"
   ]
  },
  {
   "cell_type": "markdown",
   "metadata": {},
   "source": [
    "These are the results after fine-tuning BERT-B on different proportions of the news data. Select whether you want to see the effect of the full dataset (finetuned1epoch), half, a quart or a tenth of the dataset. "
   ]
  },
  {
   "cell_type": "code",
   "execution_count": 14,
   "metadata": {},
   "outputs": [
    {
     "data": {
      "application/vnd.jupyter.widget-view+json": {
       "model_id": "0e31722c6393491fb98bedff80be4b14",
       "version_major": 2,
       "version_minor": 0
      },
      "text/plain": [
       "interactive(children=(Dropdown(description='Category', index=4, options=('age', 'religion', 'political', 'race…"
      ]
     },
     "metadata": {},
     "output_type": "display_data"
    },
    {
     "data": {
      "text/plain": [
       "<function __main__.view_image(i, model, finetune)>"
      ]
     },
     "execution_count": 14,
     "metadata": {},
     "output_type": "execute_result"
    }
   ],
   "source": [
    "models = widgets.Dropdown(\n",
    "    options=['BERT-B'],\n",
    "    value='BERT-B',\n",
    "    description='Model',\n",
    "    disabled=False,\n",
    ")\n",
    "\n",
    "finetuned = widgets.Dropdown(\n",
    "    options=['finetuned1epoch', 'finetuned-half','finetuned-quart', 'finetuned-tenth'],\n",
    "    value='finetuned1epoch',\n",
    "    description='Proportion of data',\n",
    "    disabled=False,\n",
    ")\n",
    "\n",
    "def view_image(i, model, finetune):\n",
    "    im, cbar = comparison_within_models(i, model, finetune)\n",
    "    display()\n",
    "interact(view_image, i=categories, model=models, finetune=finetuned)"
   ]
  },
  {
   "cell_type": "markdown",
   "metadata": {},
   "source": [
    "We now show the specific stereotypes that shifts as a result of fine-tuning on a news source. Removed attributes are indicated by red and those added by green. Attributes that persisted after fine-tuning are grey. Please specify the social group for which you want to generate the wordcloud plot and the news source on which the model was pretrained. "
   ]
  },
  {
   "cell_type": "code",
   "execution_count": 15,
   "metadata": {
    "scrolled": false
   },
   "outputs": [
    {
     "data": {
      "application/vnd.jupyter.widget-view+json": {
       "model_id": "9cc4a0e5013c40ed86d5a7e52de20664",
       "version_major": 2,
       "version_minor": 0
      },
      "text/plain": [
       "interactive(children=(Text(value='black people', description='Social groups', placeholder='Enter words to get …"
      ]
     },
     "metadata": {},
     "output_type": "display_data"
    },
    {
     "data": {
      "text/plain": [
       "<function utils.study_stereotypes.get_shifts(interest, source='reuters')>"
      ]
     },
     "execution_count": 15,
     "metadata": {},
     "output_type": "execute_result"
    }
   ],
   "source": [
    "news_source = widgets.Dropdown(\n",
    "    options=['breitbart', 'fox','reuters', 'guardian', 'new_yorker'],\n",
    "    value='guardian',\n",
    "    description='Model',\n",
    "    disabled=False,\n",
    ")\n",
    "\n",
    "txtsl_group = widgets.Text(placeholder='Enter words to get attributes for',font_size=1000,\n",
    "                    description='Social groups', value='black people')\n",
    "\n",
    "\n",
    "interact(get_shifts, interest=txtsl_group, source=news_source )"
   ]
  },
  {
   "cell_type": "code",
   "execution_count": null,
   "metadata": {},
   "outputs": [],
   "source": []
  }
 ],
 "metadata": {
  "kernelspec": {
   "display_name": "Python 3 (ipykernel)",
   "language": "python",
   "name": "python3"
  },
  "language_info": {
   "codemirror_mode": {
    "name": "ipython",
    "version": 3
   },
   "file_extension": ".py",
   "mimetype": "text/x-python",
   "name": "python",
   "nbconvert_exporter": "python",
   "pygments_lexer": "ipython3",
   "version": "3.11.4"
  }
 },
 "nbformat": 4,
 "nbformat_minor": 2
}
